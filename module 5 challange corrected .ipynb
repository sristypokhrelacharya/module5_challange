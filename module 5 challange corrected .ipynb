{
 "cells": [
  {
   "cell_type": "markdown",
   "metadata": {},
   "source": [
    "# Pymaceuticals Inc.\n",
    "---\n",
    "\n",
    "### Analysis\n",
    "\n",
    "- Add your analysis here.\n",
    " "
   ]
  },
  {
   "cell_type": "code",
   "execution_count": 2,
   "metadata": {},
   "outputs": [
    {
     "name": "stdout",
     "output_type": "stream",
     "text": [
      "     Mouse ID Drug Regimen     Sex  Age_months  Weight (g)  Timepoint  \\\n",
      "0        b128    Capomulin  Female           9          22          0   \n",
      "1        f932     Ketapril    Male          15          29          0   \n",
      "2        g107     Ketapril  Female           2          29          0   \n",
      "3        a457     Ketapril  Female          11          30          0   \n",
      "4        c819     Ketapril    Male          21          25          0   \n",
      "...       ...          ...     ...         ...         ...        ...   \n",
      "1888     r944    Capomulin    Male          12          25         45   \n",
      "1889     u364    Capomulin    Male          18          17         45   \n",
      "1890     p438     Ceftamin  Female          11          26         45   \n",
      "1891     x773      Placebo  Female          21          30         45   \n",
      "1892     b879     Stelasyn  Female           4          26         45   \n",
      "\n",
      "      Tumor Volume (mm3)  Metastatic Sites  \n",
      "0              45.000000                 0  \n",
      "1              45.000000                 0  \n",
      "2              45.000000                 0  \n",
      "3              45.000000                 0  \n",
      "4              45.000000                 0  \n",
      "...                  ...               ...  \n",
      "1888           41.581521                 2  \n",
      "1889           31.023923                 3  \n",
      "1890           61.433892                 1  \n",
      "1891           58.634971                 4  \n",
      "1892           72.555239                 2  \n",
      "\n",
      "[1893 rows x 8 columns]\n"
     ]
    }
   ],
   "source": [
    "# Dependencies and Setup\n",
    "import matplotlib.pyplot as plt\n",
    "import pandas as pd\n",
    "import scipy.stats as st\n",
    "\n",
    "# Study data files\n",
    "mouse_metadata_path = \"Mouse_metadata.csv\"\n",
    "study_results_path = \"Study_results.csv\"\n",
    "\n",
    "# Read the mouse data and the study results\n",
    "mouse_metadata = pd.read_csv(mouse_metadata_path)\n",
    "study_results = pd.read_csv(study_results_path)\n",
    "\n",
    "# Combine the data into a single dataset\n",
    "data = pd.merge (mouse_metadata,study_results,how=\"right\", on=\"Mouse ID\")\n",
    "# Display the data table for preview\n",
    "print (data)"
   ]
  },
  {
   "cell_type": "code",
   "execution_count": 3,
   "metadata": {},
   "outputs": [
    {
     "data": {
      "text/plain": [
       "249"
      ]
     },
     "execution_count": 3,
     "metadata": {},
     "output_type": "execute_result"
    }
   ],
   "source": [
    "# Checking the number of mice.\n",
    " #pd.read_csv(\"mouse_metadata_path\")\n",
    "#num_mice = data['Mousedata ID'].unique()\n",
    "#num_mice\n",
    "len (data[\"Mouse ID\"].unique())\n"
   ]
  },
  {
   "cell_type": "code",
   "execution_count": 4,
   "metadata": {},
   "outputs": [
    {
     "name": "stdout",
     "output_type": "stream",
     "text": [
      "     Mouse ID Drug Regimen     Sex  Age_months  Weight (g)  Timepoint  \\\n",
      "107      g989     Propriva  Female          21          26          0   \n",
      "137      g989     Propriva  Female          21          26          0   \n",
      "329      g989     Propriva  Female          21          26          5   \n",
      "360      g989     Propriva  Female          21          26          5   \n",
      "620      g989     Propriva  Female          21          26         10   \n",
      "681      g989     Propriva  Female          21          26         10   \n",
      "815      g989     Propriva  Female          21          26         15   \n",
      "869      g989     Propriva  Female          21          26         15   \n",
      "950      g989     Propriva  Female          21          26         20   \n",
      "1111     g989     Propriva  Female          21          26         20   \n",
      "\n",
      "      Tumor Volume (mm3)  Metastatic Sites  \n",
      "107            45.000000                 0  \n",
      "137            45.000000                 0  \n",
      "329            48.786801                 0  \n",
      "360            47.570392                 0  \n",
      "620            51.745156                 0  \n",
      "681            49.880528                 0  \n",
      "815            51.325852                 1  \n",
      "869            53.442020                 0  \n",
      "950            55.326122                 1  \n",
      "1111           54.657650                 1  \n"
     ]
    }
   ],
   "source": [
    "# Getting the duplicate mice by ID number that shows up for Mouse ID and Timepoint. \n",
    "duplicates = data[data.duplicated(['Mouse ID', 'Timepoint'], keep=False)]\n",
    "\n",
    "print(duplicates)"
   ]
  },
  {
   "cell_type": "code",
   "execution_count": 5,
   "metadata": {},
   "outputs": [],
   "source": [
    "# Optional: Get all the data for the duplicate mouse ID. \n",
    "duplicated_data = data[data['Mouse ID'].isin(duplicates['Mouse ID'])]"
   ]
  },
  {
   "cell_type": "code",
   "execution_count": 6,
   "metadata": {},
   "outputs": [
    {
     "name": "stdout",
     "output_type": "stream",
     "text": [
      "    Mouse ID Drug Regimen     Sex  Age_months  Weight (g)  Timepoint  \\\n",
      "0       b128    Capomulin  Female           9          22          0   \n",
      "1       f932     Ketapril    Male          15          29          0   \n",
      "2       g107     Ketapril  Female           2          29          0   \n",
      "3       a457     Ketapril  Female          11          30          0   \n",
      "4       c819     Ketapril    Male          21          25          0   \n",
      "..       ...          ...     ...         ...         ...        ...   \n",
      "245     t565    Capomulin  Female          20          17          0   \n",
      "246     i557    Capomulin  Female           1          24          0   \n",
      "247     m957    Capomulin  Female           3          19          0   \n",
      "248     f966    Capomulin    Male          16          17          0   \n",
      "249     m601    Capomulin    Male          22          17          0   \n",
      "\n",
      "     Tumor Volume (mm3)  Metastatic Sites  \n",
      "0                  45.0                 0  \n",
      "1                  45.0                 0  \n",
      "2                  45.0                 0  \n",
      "3                  45.0                 0  \n",
      "4                  45.0                 0  \n",
      "..                  ...               ...  \n",
      "245                45.0                 0  \n",
      "246                45.0                 0  \n",
      "247                45.0                 0  \n",
      "248                45.0                 0  \n",
      "249                45.0                 0  \n",
      "\n",
      "[249 rows x 8 columns]\n"
     ]
    }
   ],
   "source": [
    "# Create a clean DataFrame by dropping the duplicate mouse by its ID.\n",
    "clean_data = data.drop_duplicates(subset='Mouse ID', keep='first')\n",
    "print (clean_data)"
   ]
  },
  {
   "cell_type": "code",
   "execution_count": 7,
   "metadata": {},
   "outputs": [
    {
     "name": "stdout",
     "output_type": "stream",
     "text": [
      "The number of mice in the clean DataFrame is: 249\n"
     ]
    }
   ],
   "source": [
    "# Checking the number of mice in the clean DataFrame.\n",
    "number_of_mice =clean_data['Mouse ID'].nunique()\n",
    "print(f'The number of mice in the clean DataFrame is: {number_of_mice}')\n"
   ]
  },
  {
   "cell_type": "markdown",
   "metadata": {},
   "source": [
    "## Summary Statistics"
   ]
  },
  {
   "cell_type": "code",
   "execution_count": 10,
   "metadata": {},
   "outputs": [
    {
     "name": "stdout",
     "output_type": "stream",
     "text": [
      "              Mean Tumor Volume  Median Tumor Volume  Tumor Volume Variance  \\\n",
      "Drug Regimen                                                                  \n",
      "Capomulin             40.675741            41.557809              24.947764   \n",
      "Ceftamin              52.591172            51.776157              39.290177   \n",
      "Infubinol             52.884795            51.820584              43.128684   \n",
      "Ketapril              55.235638            53.698743              68.553577   \n",
      "Naftisol              54.331565            52.509285              66.173479   \n",
      "Placebo               54.033581            52.288934              61.168083   \n",
      "Propriva              52.322552            50.854632              42.351070   \n",
      "Ramicane              40.216745            40.673236              23.486704   \n",
      "Stelasyn              54.233149            52.431737              59.450562   \n",
      "Zoniferol             53.236507            51.818479              48.533355   \n",
      "\n",
      "              Tumor Volume Std. Dev.  Tumor Volume Std. Err.  \n",
      "Drug Regimen                                                  \n",
      "Capomulin                   4.994774                0.329346  \n",
      "Ceftamin                    6.268188                0.469821  \n",
      "Infubinol                   6.567243                0.492236  \n",
      "Ketapril                    8.279709                0.603860  \n",
      "Naftisol                    8.134708                0.596466  \n",
      "Placebo                     7.821003                0.581331  \n",
      "Propriva                    6.507770                0.512884  \n",
      "Ramicane                    4.846308                0.320955  \n",
      "Stelasyn                    7.710419                0.573111  \n",
      "Zoniferol                   6.966589                0.516398  \n"
     ]
    }
   ],
   "source": [
    "# Generate a summary statistics table of mean, median, variance, standard deviation, and SEM of the tumor volume for each regimen\n",
    "\n",
    "# Use groupby and summary statistical methods to calculate the following properties of each drug regimen: \n",
    "# mean, median, variance, standard deviation, and SEM of the tumor volume. \n",
    "# Assemble the resulting series into a single summary DataFrame.\n",
    "#groupby and summary methods\n",
    "\n",
    "drug_group = data.groupby([\"Drug Regimen\"])\n",
    "#drug_stats = drug_group.agg({\"Tumor Volume (mm3)\": [\"mean\", \"median\", \"var\", \"std\", \"sem\"]})\n",
    "drug_stats_mean = drug_group.mean()[\"Tumor Volume (mm3)\"]\n",
    "drug_stats_median = drug_group.median()[\"Tumor Volume (mm3)\"]\n",
    "drug_stats_var = drug_group.var()[\"Tumor Volume (mm3)\"]\n",
    "drug_stats_Std = drug_group.std()[\"Tumor Volume (mm3)\"]\n",
    "drug_stats_Sem = drug_group.sem()[\"Tumor Volume (mm3)\"]\n",
    "\n",
    "# #drug_stats = drug_stats.reset_index()\n",
    "# print(drug_stats_mean)\n",
    "# print(drug_stats_median)\n",
    "# print(drug_stats_var)\n",
    "# print(drug_stats_Std)\n",
    "# print(drug_stats_Sem)\n",
    "summary_df = pd.DataFrame({\n",
    "    \"Mean Tumor Volume\": drug_stats_mean,\n",
    "    \"Median Tumor Volume\": drug_stats_median,\n",
    "    \"Tumor Volume Variance\": drug_stats_var ,\n",
    "    \"Tumor Volume Std. Dev.\": drug_stats_Std,\n",
    "    \"Tumor Volume Std. Err.\": drug_stats_Sem,\n",
    "})\n",
    "print (summary_df)\n"
   ]
  },
  {
   "cell_type": "code",
   "execution_count": 14,
   "metadata": {},
   "outputs": [
    {
     "data": {
      "text/html": [
       "<div>\n",
       "<style scoped>\n",
       "    .dataframe tbody tr th:only-of-type {\n",
       "        vertical-align: middle;\n",
       "    }\n",
       "\n",
       "    .dataframe tbody tr th {\n",
       "        vertical-align: top;\n",
       "    }\n",
       "\n",
       "    .dataframe thead th {\n",
       "        text-align: right;\n",
       "    }\n",
       "</style>\n",
       "<table border=\"1\" class=\"dataframe\">\n",
       "  <thead>\n",
       "    <tr style=\"text-align: right;\">\n",
       "      <th></th>\n",
       "      <th>mean</th>\n",
       "      <th>median</th>\n",
       "      <th>var</th>\n",
       "      <th>std</th>\n",
       "      <th>sem</th>\n",
       "    </tr>\n",
       "    <tr>\n",
       "      <th>Drug Regimen</th>\n",
       "      <th></th>\n",
       "      <th></th>\n",
       "      <th></th>\n",
       "      <th></th>\n",
       "      <th></th>\n",
       "    </tr>\n",
       "  </thead>\n",
       "  <tbody>\n",
       "    <tr>\n",
       "      <th>Capomulin</th>\n",
       "      <td>45.0</td>\n",
       "      <td>45.0</td>\n",
       "      <td>0.0</td>\n",
       "      <td>0.0</td>\n",
       "      <td>0.0</td>\n",
       "    </tr>\n",
       "    <tr>\n",
       "      <th>Ceftamin</th>\n",
       "      <td>45.0</td>\n",
       "      <td>45.0</td>\n",
       "      <td>0.0</td>\n",
       "      <td>0.0</td>\n",
       "      <td>0.0</td>\n",
       "    </tr>\n",
       "    <tr>\n",
       "      <th>Infubinol</th>\n",
       "      <td>45.0</td>\n",
       "      <td>45.0</td>\n",
       "      <td>0.0</td>\n",
       "      <td>0.0</td>\n",
       "      <td>0.0</td>\n",
       "    </tr>\n",
       "    <tr>\n",
       "      <th>Ketapril</th>\n",
       "      <td>45.0</td>\n",
       "      <td>45.0</td>\n",
       "      <td>0.0</td>\n",
       "      <td>0.0</td>\n",
       "      <td>0.0</td>\n",
       "    </tr>\n",
       "    <tr>\n",
       "      <th>Naftisol</th>\n",
       "      <td>45.0</td>\n",
       "      <td>45.0</td>\n",
       "      <td>0.0</td>\n",
       "      <td>0.0</td>\n",
       "      <td>0.0</td>\n",
       "    </tr>\n",
       "    <tr>\n",
       "      <th>Placebo</th>\n",
       "      <td>45.0</td>\n",
       "      <td>45.0</td>\n",
       "      <td>0.0</td>\n",
       "      <td>0.0</td>\n",
       "      <td>0.0</td>\n",
       "    </tr>\n",
       "    <tr>\n",
       "      <th>Propriva</th>\n",
       "      <td>45.0</td>\n",
       "      <td>45.0</td>\n",
       "      <td>0.0</td>\n",
       "      <td>0.0</td>\n",
       "      <td>0.0</td>\n",
       "    </tr>\n",
       "    <tr>\n",
       "      <th>Ramicane</th>\n",
       "      <td>45.0</td>\n",
       "      <td>45.0</td>\n",
       "      <td>0.0</td>\n",
       "      <td>0.0</td>\n",
       "      <td>0.0</td>\n",
       "    </tr>\n",
       "    <tr>\n",
       "      <th>Stelasyn</th>\n",
       "      <td>45.0</td>\n",
       "      <td>45.0</td>\n",
       "      <td>0.0</td>\n",
       "      <td>0.0</td>\n",
       "      <td>0.0</td>\n",
       "    </tr>\n",
       "    <tr>\n",
       "      <th>Zoniferol</th>\n",
       "      <td>45.0</td>\n",
       "      <td>45.0</td>\n",
       "      <td>0.0</td>\n",
       "      <td>0.0</td>\n",
       "      <td>0.0</td>\n",
       "    </tr>\n",
       "  </tbody>\n",
       "</table>\n",
       "</div>"
      ],
      "text/plain": [
       "              mean  median  var  std  sem\n",
       "Drug Regimen                             \n",
       "Capomulin     45.0    45.0  0.0  0.0  0.0\n",
       "Ceftamin      45.0    45.0  0.0  0.0  0.0\n",
       "Infubinol     45.0    45.0  0.0  0.0  0.0\n",
       "Ketapril      45.0    45.0  0.0  0.0  0.0\n",
       "Naftisol      45.0    45.0  0.0  0.0  0.0\n",
       "Placebo       45.0    45.0  0.0  0.0  0.0\n",
       "Propriva      45.0    45.0  0.0  0.0  0.0\n",
       "Ramicane      45.0    45.0  0.0  0.0  0.0\n",
       "Stelasyn      45.0    45.0  0.0  0.0  0.0\n",
       "Zoniferol     45.0    45.0  0.0  0.0  0.0"
      ]
     },
     "execution_count": 14,
     "metadata": {},
     "output_type": "execute_result"
    }
   ],
   "source": [
    "# Generate a summary statistics table of mean, median, variance, standard deviation, \n",
    "# and SEM of the tumor volume for each regimen\n",
    "\n",
    "# Using the aggregation method, produce the same summary statistics in a single line.\n",
    "summary_stats = clean_data.groupby(\"Drug Regimen\")[\"Tumor Volume (mm3)\"].agg([\"mean\", \"median\", \"var\", \"std\", \"sem\"])\n",
    "summary_stats "
   ]
  },
  {
   "cell_type": "markdown",
   "metadata": {},
   "source": [
    "## Bar and Pie Charts"
   ]
  },
  {
   "cell_type": "code",
   "execution_count": 15,
   "metadata": {},
   "outputs": [
    {
     "data": {
      "image/png": "[encoded data removed]",
      "text/plain": [
       "<Figure size 640x480 with 1 Axes>"
      ]
     },
     "metadata": {},
     "output_type": "display_data"
    }
   ],
   "source": [
    "# Generate a bar plot showing the total number of timepoints for all mice tested for each drug regimen using Pandas.\n",
    "import matplotlib.pyplot as plt\n",
    "\n",
    "# group data by drug regimen and count number of timepoints\n",
    "timepoints = clean_data.groupby('Drug Regimen')['Timepoint'].count()\n",
    "\n",
    "# create bar plot\n",
    "timepoints.plot(kind='bar', color='b')\n",
    "\n",
    "# set chart title and axis labels\n",
    "plt.title('Total Number of Timepoints for Each Drug Regimen')\n",
    "plt.xlabel('Drug Regimen')\n",
    "plt.ylabel('Number of Timepoints')\n",
    "\n",
    "# display plot\n",
    "plt.show()\n",
    "\n"
   ]
  },
  {
   "cell_type": "code",
   "execution_count": 16,
   "metadata": {},
   "outputs": [
    {
     "data": {
      "image/png": "[encoded data removed]",
      "text/plain": [
       "<Figure size 640x480 with 1 Axes>"
      ]
     },
     "metadata": {},
     "output_type": "display_data"
    }
   ],
   "source": [
    "# Generate a bar plot showing the total number of timepoints for all mice tested for each drug regimen using pyplot.\n",
    "\n",
    "import matplotlib.pyplot as plt\n",
    "\n",
    "# Group by drug regimen and count number of timepoints\n",
    "timepoint_counts = clean_data.groupby('Drug Regimen')['Timepoint'].count()\n",
    "\n",
    "# Create a bar plot\n",
    "plt.bar(timepoint_counts.index, timepoint_counts.values)\n",
    "\n",
    "# Set chart title and axis labels\n",
    "plt.title('Total Number of Timepoints per Drug Regimen')\n",
    "plt.xlabel('Drug Regimen')\n",
    "plt.ylabel('Number of Timepoints')\n",
    "\n",
    "# Rotate x-axis labels for better readability\n",
    "plt.xticks(rotation=90)\n",
    "\n",
    "# Show plot\n",
    "plt.show()"
   ]
  },
  {
   "cell_type": "code",
   "execution_count": 19,
   "metadata": {},
   "outputs": [
    {
     "data": {
      "image/png": "[encoded data removed]",
      "text/plain": [
       "<Figure size 640x480 with 1 Axes>"
      ]
     },
     "metadata": {},
     "output_type": "display_data"
    }
   ],
   "source": [
    "# Generate a pie plot showing the distribution of female versus male mice using Pandas\n",
    "\n",
    "import matplotlib.pyplot as plt\n",
    "\n",
    "# Create the data\n",
    "gender_count = clean_data['Sex'].value_counts()\n",
    "gender_count.plot (kind=\"pie\", autopct='%1.1f%% ')\n",
    "# Create the pie chart\n",
    "#plt.pie(gender_count, labels=gender_count.index, autopct='%1.1f%%', startangle=90)\n",
    "# Add title and axis labels\n",
    "plt.title('Distribution of Female vs Male Mice')\n",
    "plt.axis('equal')\n",
    "\n",
    "# Show the chart\n",
    "plt.show()"
   ]
  },
  {
   "cell_type": "code",
   "execution_count": 20,
   "metadata": {},
   "outputs": [
    {
     "data": {
      "image/png": "[encoded data removed]",
      "text/plain": [
       "<Figure size 640x480 with 1 Axes>"
      ]
     },
     "metadata": {},
     "output_type": "display_data"
    }
   ],
   "source": [
    "# Generate a pie plot showing the distribution of female versus male mice using pyplot\n",
    "\n",
    "import matplotlib.pyplot as plt\n",
    "\n",
    "# Get the count of male and female mice\n",
    "gender_counts = mouse_metadata[\"Sex\"].value_counts()\n",
    "\n",
    "# Create a list of labels and values\n",
    "labels = gender_counts.index.tolist()\n",
    "sizes = gender_counts.tolist()\n",
    "\n",
    "# Create a pie chart\n",
    "fig, ax = plt.subplots()\n",
    "ax.pie(sizes, labels=labels, autopct='%1.1f%%', startangle=90)\n",
    "\n",
    "# Add a title\n",
    "ax.set_title(\"Distribution of Female vs. Male Mice\")\n",
    "\n",
    "# Show the chart\n",
    "plt.show()"
   ]
  },
  {
   "cell_type": "markdown",
   "metadata": {},
   "source": [
    "## Quartiles, Outliers and Boxplots"
   ]
  },
  {
   "cell_type": "code",
   "execution_count": 25,
   "metadata": {},
   "outputs": [],
   "source": [
    "# Calculate the final tumor volume of each mouse across four of the treatment regimens:  \n",
    "# Capomulin, Ramicane, Infubinol, and Ceftamin\n",
    "\n",
    "# Start by getting the last (greatest) timepoint for each mouse\n",
    "\n",
    "\n",
    "# Merge this group df with the original DataFrame to get the tumor volume at the last timepoint\n",
    "\n",
    "# Create a list of the four treatment regimens\n",
    "treatment_regimens = ['Capomulin', 'Ramicane', 'Infubinol', 'Ceftamin']\n",
    "\n",
    "# Filter the data to only include these four treatment regimens\n",
    "final_tumor_volume_df = clean_data[clean_data['Drug Regimen'].isin(treatment_regimens)]\n",
    "\n",
    "# Group the data by Mouse ID and find the last (greatest) timepoint for each mouse\n",
    "last_timepoint_df = final_tumor_volume_df.groupby('Mouse ID')['Timepoint'].max().reset_index()\n",
    "\n",
    "# Merge the last_timepoint_df with the original dataframe to get the tumor volume at the last timepoint for each mouse\n",
    "merged_df = last_timepoint_df.merge(final_tumor_volume_df, on=['Mouse ID', 'Timepoint'], how='left')[['Mouse ID', 'Timepoint', 'Tumor Volume (mm3)', 'Drug Regimen']]\n"
   ]
  },
  {
   "cell_type": "code",
   "execution_count": 63,
   "metadata": {},
   "outputs": [
    {
     "name": "stdout",
     "output_type": "stream",
     "text": [
      "Capomulin: Series([], Name: Tumor Volume (mm3), dtype: float64)\n",
      "Ramicane: Series([], Name: Tumor Volume (mm3), dtype: float64)\n",
      "Infubinol: Series([], Name: Tumor Volume (mm3), dtype: float64)\n",
      "Ceftamin: Series([], Name: Tumor Volume (mm3), dtype: float64)\n"
     ]
    }
   ],
   "source": [
    "# Put treatments into a list for for loop (and later for plot labels)\n",
    "\n",
    "\n",
    "# Create empty list to fill with tumor vol data (for plotting)\n",
    "\n",
    "\n",
    "# Calculate the IQR and quantitatively determine if there are any potential outliers. \n",
    "    \n",
    " # add subset \n",
    "    \n",
    "    #loop of treatment list \n",
    "from scipy.stats import iqr\n",
    "\n",
    "treatment_regimens = ['Capomulin', 'Ramicane', 'Infubinol', 'Ceftamin']\n",
    "vol_list = []\n",
    "\n",
    "for treatment in treatment_regimens:\n",
    "    # Locate the rows which contain mice on each drug and get the tumor volumes\n",
    "    final_volume = merged_df[merged_df['Drug Regimen'] == treatment]['Tumor Volume (mm3)']\n",
    "    vol_list.append(final_volume)\n",
    "    \n",
    "    # Calculate the IQR\n",
    "    quartiles = final_volume.quantile([0.25, 0.5, 0.75])\n",
    "    lowerq = quartiles[0.25]\n",
    "    upperq = quartiles[0.75]\n",
    "    iqr_val = iqr(final_volume)\n",
    "    \n",
    "    # Determine outliers using upper and lower bounds\n",
    "    lower_bound = lowerq - 1.5 * iqr_val\n",
    "    upper_bound = upperq + 1.5 * iqr_val\n",
    "    outliers = final_volume.loc[(final_volume < lower_bound) | (final_volume > upper_bound)]\n",
    "    \n",
    "    print(f\"{treatment}: {outliers}\")  "
   ]
  },
  {
   "cell_type": "code",
   "execution_count": null,
   "metadata": {},
   "outputs": [],
   "source": [
    "# Generate a box plot that shows the distrubution of the tumor volume for each treatment group.\n",
    "\n",
    "import matplotlib.pyplot as plt\n",
    "Drug_Regimen=[ 10, 20, 30, 40, 50, 60, 70, 80]\n",
    "# Create a list of the tumor volume data for each drug regimen\n",
    "data = [capomulin_data['Tumor Volume'],\n",
    "        ramicane_data['Tumor Volume'],\n",
    "        infubinol_data['Tumor Volume'],\n",
    "        ceftamin_data['Tumor Volume']]\n",
    "\n",
    "# Create a boxplot of the tumor volume data for each drug regimen\n",
    "fig, ax = plt.subplots()\n",
    "ax.boxplot(data)\n",
    "\n",
    "# Set the title and labels for the plot\n",
    "ax.set_title('Tumor Volume by Drug Regimen')\n",
    "ax.set_xlabel('Drug Regimen')\n",
    "ax.set_ylabel('Tumor Volume')\n",
    "\n",
    "# Set the tick labels for the x-axis\n",
    "ax.set_xticklabels(['Capomulin', 'Ramicane', 'Infubinol', 'Ceftamin'])\n",
    "\n",
    "# Show the plot\n",
    "plt.show()\n"
   ]
  },
  {
   "cell_type": "markdown",
   "metadata": {},
   "source": [
    "## Line and Scatter Plots"
   ]
  },
  {
   "cell_type": "code",
   "execution_count": null,
   "metadata": {},
   "outputs": [],
   "source": [
    "# Generate a line plot of tumor volume vs. time point for a mouse treated with Capomulin\n",
    "import pandas as pd\n",
    "import matplotlib.pyplot as plt\n",
    "\n",
    "# Load data into a pandas dataframe\n",
    "data = pd.read_csv(\"data.csv\")\n",
    "\n",
    "# Filter the dataframe to only include data for mice treated with Capomulin\n",
    "capomulin_data = data[data[\"Drug Regimen\"] == \"Capomulin\"]\n",
    "\n",
    "# Choose a specific mouse to plot\n",
    "selected_mouse = \"mouse_id_123\"\n",
    "\n",
    "# Create a new dataframe with only data for the selected mouse\n",
    "selected_mouse_data = capomulin_data[capomulin_data[\"Mouse ID\"] == selected_mouse]\n",
    "\n",
    "# Create a line plot of tumor volume vs. time point\n",
    "plt.plot(selected_mouse_data[\"Timepoint\"], selected_mouse_data[\"Tumor Volume\"])\n",
    "plt.xlabel(\"Timepoint\")\n",
    "plt.ylabel(\"Tumor Volume\")\n",
    "plt.title(f\"Tumor Volume Over Time for Mouse {selected_mouse} Treated with Capomulin\")\n",
    "plt.show()\n"
   ]
  },
  {
   "cell_type": "code",
   "execution_count": null,
   "metadata": {},
   "outputs": [],
   "source": [
    "# Generate a scatter plot of average tumor volume vs. mouse weight for the Capomulin regimen\n",
    "\n",
    "import pandas as pd\n",
    "import matplotlib.pyplot as plt\n",
    "\n",
    "# Load data into a pandas dataframe\n",
    "data = pd.read_csv(\"data.csv\")\n",
    "\n",
    "# Filter the dataframe to only include data for mice treated with Capomulin\n",
    "capomulin_data = data[data[\"Drug Regimen\"] == \"Capomulin\"]\n",
    "\n",
    "# Calculate the average tumor volume and mouse weight for each mouse\n",
    "mouse_stats = capomulin_data.groupby(\"Mouse ID\").agg({\"Tumor Volume (mm3)\": \"mean\", \"Weight (g)\": \"mean\"})\n",
    "\n",
    "# Create a scatter plot of average tumor volume vs. mouse weight\n",
    "plt.scatter(mouse_stats[\"Weight (g)\"], mouse_stats[\"Tumor Volume (mm3)\"])\n",
    "mouse_weight =(14,16,18,20,22,24,26)\n",
    "plt.xlabel(\"Mouse Weight (g)\")\n",
    "average_Tumor_Volume=(\"30,34,38,42,46,50\")\n",
    "plt.ylabel(\"Average Tumor Volume (mm3)\")\n",
    "plt.title(\"Average Tumor Volume vs. Mouse Weight for Capomulin Regimen\")\n",
    "plt.show()\n",
    "\n"
   ]
  },
  {
   "cell_type": "markdown",
   "metadata": {},
   "source": [
    "## Correlation and Regression"
   ]
  },
  {
   "cell_type": "code",
   "execution_count": null,
   "metadata": {},
   "outputs": [],
   "source": [
    "# Calculate the correlation coefficient and linear regression model \n",
    "# for mouse weight and average tumor volume for the Capomulin regimen\n",
    "\n",
    "import pandas as pd\n",
    "import matplotlib.pyplot as plt\n",
    "from scipy.stats import pearsonr\n",
    "from sklearn.linear_model import LinearRegression\n",
    "\n",
    "# Load data into a pandas dataframe\n",
    "data = pd.read_csv(\"data.csv\")\n",
    "\n",
    "# Filter the dataframe to only include data for mice treated with Capomulin\n",
    "capomulin_data = data[data[\"Drug Regimen\"] == \"Capomulin\"]\n",
    "\n",
    "# Calculate the average tumor volume and mouse weight for each mouse\n",
    "mouse_stats = capomulin_data.groupby(\"Mouse ID\").agg({\"Tumor Volume (mm3)\": \"mean\", \"Weight (g)\": \"mean\"})\n",
    "\n",
    "# Calculate the correlation coefficient between mouse weight and average tumor volume\n",
    "corr_coef, _ = pearsonr(mouse_stats[\"Weight (g)\"], mouse_stats[\"Tumor Volume (mm3)\"])\n",
    "print(\"Correlation Coefficient:\", corr_coef)\n",
    "\n",
    "# Create a linear regression model and fit it to the data\n",
    "reg_model = LinearRegression()\n",
    "reg_model.fit(mouse_stats[[\"Weight (g)\"]], mouse_stats[\"Tumor Volume (mm3)\"])\n",
    "\n",
    "# Print the slope and y-intercept of the regression line\n",
    "print(\"Slope:\", reg_model.coef_[0])\n",
    "print(\"Intercept:\", reg_model.intercept_)\n",
    "\n",
    "# Create a scatter plot of average tumor volume vs. mouse weight, with the regression line overlaid\n",
    "plt.scatter(mouse_stats[\"Weight (g)\"], mouse_stats[\"Tumor Volume (mm3)\"])\n",
    "plt.plot(mouse_stats[\"Weight (g)\"], reg_model.predict(mouse_stats[[\"Weight (g)\"]]), color=\"red\")\n",
    "plt.xlabel(\"Mouse Weight (g)\")\n",
    "plt.ylabel(\"Average Tumor Volume (mm3)\")\n",
    "plt.title(\"Average Tumor Volume vs. Mouse Weight for Capomulin Regimen\")\n",
    "plt.show()"
   ]
  },
  {
   "cell_type": "code",
   "execution_count": null,
   "metadata": {},
   "outputs": [],
   "source": []
  }
 ],
 "metadata": {
  "anaconda-cloud": {},
  "kernelspec": {
   "display_name": "Python 3 (ipykernel)",
   "language": "python",
   "name": "python3"
  },
  "language_info": {
   "codemirror_mode": {
    "name": "ipython",
    "version": 3
   },
   "file_extension": ".py",
   "mimetype": "text/x-python",
   "name": "python",
   "nbconvert_exporter": "python",
   "pygments_lexer": "ipython3",
   "version": "3.9.13"
  }
 },
 "nbformat": 4,
 "nbformat_minor": 4
}
